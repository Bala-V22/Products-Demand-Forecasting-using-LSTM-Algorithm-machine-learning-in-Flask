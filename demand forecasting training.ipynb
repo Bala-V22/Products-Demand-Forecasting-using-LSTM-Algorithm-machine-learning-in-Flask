{
 "cells": [
  {
   "cell_type": "code",
   "execution_count": 17,
   "metadata": {
    "scrolled": true
   },
   "outputs": [],
   "source": [
    "# !jt -l"
   ]
  },
  {
   "cell_type": "code",
   "execution_count": 18,
   "metadata": {},
   "outputs": [],
   "source": [
    "# !jt -t gruvboxd"
   ]
  },
  {
   "cell_type": "code",
   "execution_count": 19,
   "metadata": {
    "_cell_guid": "b1076dfc-b9ad-4769-8c92-a6c4dae69d19",
    "_uuid": "8f2839f25d086af736a60e9eeb907d3b93b6e0e5"
   },
   "outputs": [],
   "source": [
    "import numpy as np # linear algebra\n",
    "import pandas as pd # data processing, CSV file I/O (e.g. pd.read_csv)\n",
    "import seaborn as sns\n",
    "import matplotlib.pyplot as plt\n",
    "%matplotlib inline\n",
    "\n",
    "# import os\n",
    "# for dirname, _, filenames in os.walk('Historical Product Demand'):\n",
    "#     for filename in filenames:\n",
    "#         print(os.path.join(dirname, filename))\n",
    "\n",
    "# You can write up to 5GB to the current directory (/kaggle/working/) that gets preserved as output when you create a version using \"Save & Run All\" \n",
    "# You can also write temporary files to /kaggle/temp/, but they won't be saved outside of the current session"
   ]
  },
  {
   "cell_type": "code",
   "execution_count": 20,
   "metadata": {
    "_cell_guid": "79c7e3d0-c299-4dcb-8224-4455121ee9b0",
    "_uuid": "d629ff2d2480ee46fbb7e2d37f6b5fab8052498a"
   },
   "outputs": [
    {
     "data": {
      "text/html": [
       "<div>\n",
       "<style scoped>\n",
       "    .dataframe tbody tr th:only-of-type {\n",
       "        vertical-align: middle;\n",
       "    }\n",
       "\n",
       "    .dataframe tbody tr th {\n",
       "        vertical-align: top;\n",
       "    }\n",
       "\n",
       "    .dataframe thead th {\n",
       "        text-align: right;\n",
       "    }\n",
       "</style>\n",
       "<table border=\"1\" class=\"dataframe\">\n",
       "  <thead>\n",
       "    <tr style=\"text-align: right;\">\n",
       "      <th></th>\n",
       "      <th>Product_Code</th>\n",
       "      <th>Warehouse</th>\n",
       "      <th>Product_Category</th>\n",
       "      <th>Date</th>\n",
       "      <th>Order_Demand</th>\n",
       "    </tr>\n",
       "  </thead>\n",
       "  <tbody>\n",
       "    <tr>\n",
       "      <th>0</th>\n",
       "      <td>Product_0993</td>\n",
       "      <td>Whse_J</td>\n",
       "      <td>Category_028</td>\n",
       "      <td>2012-07-27</td>\n",
       "      <td>100</td>\n",
       "    </tr>\n",
       "    <tr>\n",
       "      <th>1</th>\n",
       "      <td>Product_0979</td>\n",
       "      <td>Whse_J</td>\n",
       "      <td>Category_028</td>\n",
       "      <td>2012-01-19</td>\n",
       "      <td>500</td>\n",
       "    </tr>\n",
       "    <tr>\n",
       "      <th>2</th>\n",
       "      <td>Product_0979</td>\n",
       "      <td>Whse_J</td>\n",
       "      <td>Category_028</td>\n",
       "      <td>2012-02-03</td>\n",
       "      <td>500</td>\n",
       "    </tr>\n",
       "    <tr>\n",
       "      <th>3</th>\n",
       "      <td>Product_0979</td>\n",
       "      <td>Whse_J</td>\n",
       "      <td>Category_028</td>\n",
       "      <td>2012-02-09</td>\n",
       "      <td>500</td>\n",
       "    </tr>\n",
       "    <tr>\n",
       "      <th>4</th>\n",
       "      <td>Product_0979</td>\n",
       "      <td>Whse_J</td>\n",
       "      <td>Category_028</td>\n",
       "      <td>2012-03-02</td>\n",
       "      <td>500</td>\n",
       "    </tr>\n",
       "  </tbody>\n",
       "</table>\n",
       "</div>"
      ],
      "text/plain": [
       "   Product_Code Warehouse Product_Category       Date Order_Demand\n",
       "0  Product_0993    Whse_J     Category_028 2012-07-27         100 \n",
       "1  Product_0979    Whse_J     Category_028 2012-01-19         500 \n",
       "2  Product_0979    Whse_J     Category_028 2012-02-03         500 \n",
       "3  Product_0979    Whse_J     Category_028 2012-02-09         500 \n",
       "4  Product_0979    Whse_J     Category_028 2012-03-02         500 "
      ]
     },
     "execution_count": 20,
     "metadata": {},
     "output_type": "execute_result"
    }
   ],
   "source": [
    "df = pd.read_csv(\"Product.csv\",parse_dates=['Date'])\n",
    "df.head()"
   ]
  },
  {
   "cell_type": "code",
   "execution_count": 21,
   "metadata": {},
   "outputs": [
    {
     "name": "stdout",
     "output_type": "stream",
     "text": [
      "(1048575, 5)\n",
      "Product_Code                object\n",
      "Warehouse                   object\n",
      "Product_Category            object\n",
      "Date                datetime64[ns]\n",
      "Order_Demand                object\n",
      "dtype: object\n"
     ]
    }
   ],
   "source": [
    "# Check Shape & data Types\n",
    "\n",
    "print(df.shape)\n",
    "print(df.dtypes)"
   ]
  },
  {
   "cell_type": "code",
   "execution_count": 22,
   "metadata": {},
   "outputs": [
    {
     "name": "stdout",
     "output_type": "stream",
     "text": [
      "% of Data missing = 1.0718355863910547\n"
     ]
    }
   ],
   "source": [
    "# to check columns if they have any missing values, it will return number of Nan in the given columns\n",
    "\n",
    "df.isnull().sum()\n",
    "\n",
    "# Mssing values are in dates\n",
    "# calculating % of data missing\n",
    "print(\"% of Data missing =\", df.isnull().sum().sum()/len(df)*100)"
   ]
  },
  {
   "cell_type": "code",
   "execution_count": 23,
   "metadata": {},
   "outputs": [
    {
     "data": {
      "text/plain": [
       "Product_Code        0\n",
       "Warehouse           0\n",
       "Product_Category    0\n",
       "Date                0\n",
       "Order_Demand        0\n",
       "dtype: int64"
      ]
     },
     "execution_count": 23,
     "metadata": {},
     "output_type": "execute_result"
    }
   ],
   "source": [
    "# Data missing is approxiately 1% of actual data, so we can remove it using Dropna\n",
    "\n",
    "df.dropna(axis=0, inplace=True) #remove all rows with Nan\n",
    "\n",
    "#setting date as index columns\n",
    "df.reset_index(drop = True)\n",
    "df.isnull().sum()\n",
    "\n",
    "# Now there is no missing data"
   ]
  },
  {
   "cell_type": "code",
   "execution_count": 24,
   "metadata": {},
   "outputs": [
    {
     "data": {
      "text/html": [
       "<div>\n",
       "<style scoped>\n",
       "    .dataframe tbody tr th:only-of-type {\n",
       "        vertical-align: middle;\n",
       "    }\n",
       "\n",
       "    .dataframe tbody tr th {\n",
       "        vertical-align: top;\n",
       "    }\n",
       "\n",
       "    .dataframe thead th {\n",
       "        text-align: right;\n",
       "    }\n",
       "</style>\n",
       "<table border=\"1\" class=\"dataframe\">\n",
       "  <thead>\n",
       "    <tr style=\"text-align: right;\">\n",
       "      <th></th>\n",
       "      <th>Product_Code</th>\n",
       "      <th>Warehouse</th>\n",
       "      <th>Product_Category</th>\n",
       "      <th>Date</th>\n",
       "      <th>Order_Demand</th>\n",
       "    </tr>\n",
       "  </thead>\n",
       "  <tbody>\n",
       "    <tr>\n",
       "      <th>75193</th>\n",
       "      <td>Product_0642</td>\n",
       "      <td>Whse_C</td>\n",
       "      <td>Category_019</td>\n",
       "      <td>2011-10-31</td>\n",
       "      <td>3</td>\n",
       "    </tr>\n",
       "    <tr>\n",
       "      <th>121820</th>\n",
       "      <td>Product_0202</td>\n",
       "      <td>Whse_A</td>\n",
       "      <td>Category_007</td>\n",
       "      <td>2011-11-04</td>\n",
       "      <td>(100)</td>\n",
       "    </tr>\n",
       "    <tr>\n",
       "      <th>121819</th>\n",
       "      <td>Product_0202</td>\n",
       "      <td>Whse_A</td>\n",
       "      <td>Category_007</td>\n",
       "      <td>2011-11-04</td>\n",
       "      <td>(400)</td>\n",
       "    </tr>\n",
       "    <tr>\n",
       "      <th>131028</th>\n",
       "      <td>Product_2143</td>\n",
       "      <td>Whse_S</td>\n",
       "      <td>Category_009</td>\n",
       "      <td>2011-11-18</td>\n",
       "      <td>(25)</td>\n",
       "    </tr>\n",
       "    <tr>\n",
       "      <th>131031</th>\n",
       "      <td>Product_0131</td>\n",
       "      <td>Whse_S</td>\n",
       "      <td>Category_021</td>\n",
       "      <td>2011-11-18</td>\n",
       "      <td>(12)</td>\n",
       "    </tr>\n",
       "    <tr>\n",
       "      <th>131032</th>\n",
       "      <td>Product_0288</td>\n",
       "      <td>Whse_S</td>\n",
       "      <td>Category_021</td>\n",
       "      <td>2011-11-18</td>\n",
       "      <td>(50)</td>\n",
       "    </tr>\n",
       "    <tr>\n",
       "      <th>44450</th>\n",
       "      <td>Product_0980</td>\n",
       "      <td>Whse_A</td>\n",
       "      <td>Category_028</td>\n",
       "      <td>2011-11-18</td>\n",
       "      <td>4000</td>\n",
       "    </tr>\n",
       "    <tr>\n",
       "      <th>131027</th>\n",
       "      <td>Product_2138</td>\n",
       "      <td>Whse_S</td>\n",
       "      <td>Category_009</td>\n",
       "      <td>2011-11-18</td>\n",
       "      <td>(49)</td>\n",
       "    </tr>\n",
       "    <tr>\n",
       "      <th>131026</th>\n",
       "      <td>Product_2137</td>\n",
       "      <td>Whse_S</td>\n",
       "      <td>Category_009</td>\n",
       "      <td>2011-11-18</td>\n",
       "      <td>(25)</td>\n",
       "    </tr>\n",
       "    <tr>\n",
       "      <th>44795</th>\n",
       "      <td>Product_0965</td>\n",
       "      <td>Whse_A</td>\n",
       "      <td>Category_006</td>\n",
       "      <td>2011-11-18</td>\n",
       "      <td>1</td>\n",
       "    </tr>\n",
       "  </tbody>\n",
       "</table>\n",
       "</div>"
      ],
      "text/plain": [
       "        Product_Code Warehouse Product_Category       Date Order_Demand\n",
       "75193   Product_0642    Whse_C     Category_019 2011-10-31           3 \n",
       "121820  Product_0202    Whse_A     Category_007 2011-11-04        (100)\n",
       "121819  Product_0202    Whse_A     Category_007 2011-11-04        (400)\n",
       "131028  Product_2143    Whse_S     Category_009 2011-11-18         (25)\n",
       "131031  Product_0131    Whse_S     Category_021 2011-11-18         (12)\n",
       "131032  Product_0288    Whse_S     Category_021 2011-11-18         (50)\n",
       "44450   Product_0980    Whse_A     Category_028 2011-11-18        4000 \n",
       "131027  Product_2138    Whse_S     Category_009 2011-11-18         (49)\n",
       "131026  Product_2137    Whse_S     Category_009 2011-11-18         (25)\n",
       "44795   Product_0965    Whse_A     Category_006 2011-11-18           1 "
      ]
     },
     "execution_count": 24,
     "metadata": {},
     "output_type": "execute_result"
    }
   ],
   "source": [
    "df.sort_values('Date')[10:20]\n",
    "# Some value in Order_Demand column has (), therefore need tro remove before converting them into integer"
   ]
  },
  {
   "cell_type": "code",
   "execution_count": 25,
   "metadata": {},
   "outputs": [
    {
     "data": {
      "text/html": [
       "<div>\n",
       "<style scoped>\n",
       "    .dataframe tbody tr th:only-of-type {\n",
       "        vertical-align: middle;\n",
       "    }\n",
       "\n",
       "    .dataframe tbody tr th {\n",
       "        vertical-align: top;\n",
       "    }\n",
       "\n",
       "    .dataframe thead th {\n",
       "        text-align: right;\n",
       "    }\n",
       "</style>\n",
       "<table border=\"1\" class=\"dataframe\">\n",
       "  <thead>\n",
       "    <tr style=\"text-align: right;\">\n",
       "      <th></th>\n",
       "      <th>Product_Code</th>\n",
       "      <th>Warehouse</th>\n",
       "      <th>Product_Category</th>\n",
       "      <th>Date</th>\n",
       "      <th>Order_Demand</th>\n",
       "    </tr>\n",
       "  </thead>\n",
       "  <tbody>\n",
       "    <tr>\n",
       "      <th>75193</th>\n",
       "      <td>Product_0642</td>\n",
       "      <td>Whse_C</td>\n",
       "      <td>Category_019</td>\n",
       "      <td>2011-10-31</td>\n",
       "      <td>3</td>\n",
       "    </tr>\n",
       "    <tr>\n",
       "      <th>121820</th>\n",
       "      <td>Product_0202</td>\n",
       "      <td>Whse_A</td>\n",
       "      <td>Category_007</td>\n",
       "      <td>2011-11-04</td>\n",
       "      <td>100</td>\n",
       "    </tr>\n",
       "    <tr>\n",
       "      <th>121819</th>\n",
       "      <td>Product_0202</td>\n",
       "      <td>Whse_A</td>\n",
       "      <td>Category_007</td>\n",
       "      <td>2011-11-04</td>\n",
       "      <td>400</td>\n",
       "    </tr>\n",
       "    <tr>\n",
       "      <th>131028</th>\n",
       "      <td>Product_2143</td>\n",
       "      <td>Whse_S</td>\n",
       "      <td>Category_009</td>\n",
       "      <td>2011-11-18</td>\n",
       "      <td>25</td>\n",
       "    </tr>\n",
       "    <tr>\n",
       "      <th>131031</th>\n",
       "      <td>Product_0131</td>\n",
       "      <td>Whse_S</td>\n",
       "      <td>Category_021</td>\n",
       "      <td>2011-11-18</td>\n",
       "      <td>12</td>\n",
       "    </tr>\n",
       "    <tr>\n",
       "      <th>131032</th>\n",
       "      <td>Product_0288</td>\n",
       "      <td>Whse_S</td>\n",
       "      <td>Category_021</td>\n",
       "      <td>2011-11-18</td>\n",
       "      <td>50</td>\n",
       "    </tr>\n",
       "    <tr>\n",
       "      <th>44450</th>\n",
       "      <td>Product_0980</td>\n",
       "      <td>Whse_A</td>\n",
       "      <td>Category_028</td>\n",
       "      <td>2011-11-18</td>\n",
       "      <td>4000</td>\n",
       "    </tr>\n",
       "    <tr>\n",
       "      <th>131027</th>\n",
       "      <td>Product_2138</td>\n",
       "      <td>Whse_S</td>\n",
       "      <td>Category_009</td>\n",
       "      <td>2011-11-18</td>\n",
       "      <td>49</td>\n",
       "    </tr>\n",
       "    <tr>\n",
       "      <th>131026</th>\n",
       "      <td>Product_2137</td>\n",
       "      <td>Whse_S</td>\n",
       "      <td>Category_009</td>\n",
       "      <td>2011-11-18</td>\n",
       "      <td>25</td>\n",
       "    </tr>\n",
       "    <tr>\n",
       "      <th>44795</th>\n",
       "      <td>Product_0965</td>\n",
       "      <td>Whse_A</td>\n",
       "      <td>Category_006</td>\n",
       "      <td>2011-11-18</td>\n",
       "      <td>1</td>\n",
       "    </tr>\n",
       "  </tbody>\n",
       "</table>\n",
       "</div>"
      ],
      "text/plain": [
       "        Product_Code Warehouse Product_Category       Date Order_Demand\n",
       "75193   Product_0642    Whse_C     Category_019 2011-10-31           3 \n",
       "121820  Product_0202    Whse_A     Category_007 2011-11-04          100\n",
       "121819  Product_0202    Whse_A     Category_007 2011-11-04          400\n",
       "131028  Product_2143    Whse_S     Category_009 2011-11-18           25\n",
       "131031  Product_0131    Whse_S     Category_021 2011-11-18           12\n",
       "131032  Product_0288    Whse_S     Category_021 2011-11-18           50\n",
       "44450   Product_0980    Whse_A     Category_028 2011-11-18        4000 \n",
       "131027  Product_2138    Whse_S     Category_009 2011-11-18           49\n",
       "131026  Product_2137    Whse_S     Category_009 2011-11-18           25\n",
       "44795   Product_0965    Whse_A     Category_006 2011-11-18           1 "
      ]
     },
     "execution_count": 25,
     "metadata": {},
     "output_type": "execute_result"
    }
   ],
   "source": [
    "df['Order_Demand'] = df['Order_Demand'].str.replace('(',\"\")\n",
    "df['Order_Demand'] = df['Order_Demand'].str.replace(')',\"\")\n",
    "df.sort_values('Date')[10:20]\n",
    "# Now () are removed from the column"
   ]
  },
  {
   "cell_type": "code",
   "execution_count": 26,
   "metadata": {},
   "outputs": [],
   "source": [
    "#Making the data type into integer\n",
    "df['Order_Demand'] = df['Order_Demand'].astype('int64')"
   ]
  },
  {
   "cell_type": "code",
   "execution_count": 27,
   "metadata": {},
   "outputs": [
    {
     "name": "stderr",
     "output_type": "stream",
     "text": [
      "C:\\Users\\User\\anaconda3\\envs\\exe\\lib\\site-packages\\seaborn\\distributions.py:2619: FutureWarning: `distplot` is a deprecated function and will be removed in a future version. Please adapt your code to use either `displot` (a figure-level function with similar flexibility) or `histplot` (an axes-level function for histograms).\n",
      "  warnings.warn(msg, FutureWarning)\n"
     ]
    },
    {
     "data": {
      "image/png": "[encoded data removed]",
      "text/plain": [
       "<Figure size 1600x500 with 1 Axes>"
      ]
     },
     "metadata": {},
     "output_type": "display_data"
    }
   ],
   "source": [
    "sns.set(rc={'figure.figsize':(16,5)})\n",
    "sns.distplot(df['Order_Demand'], bins = 100);\n",
    "# it can seen that most of our demand lies between 0 to 500000, which is highly skewed"
   ]
  },
  {
   "cell_type": "code",
   "execution_count": 28,
   "metadata": {},
   "outputs": [
    {
     "data": {
      "text/plain": [
       "Warehouse\n",
       "Whse_J    3363200396\n",
       "Whse_S    1038024700\n",
       "Whse_C     585071404\n",
       "Whse_A     147877431\n",
       "Name: Order_Demand, dtype: int64"
      ]
     },
     "execution_count": 28,
     "metadata": {},
     "output_type": "execute_result"
    }
   ],
   "source": [
    "df.groupby('Warehouse')['Order_Demand'].sum().sort_values(ascending=False)\n",
    "# It can be seen Warehouse J has maximum demand"
   ]
  },
  {
   "cell_type": "code",
   "execution_count": 29,
   "metadata": {},
   "outputs": [
    {
     "data": {
      "text/html": [
       "<div>\n",
       "<style scoped>\n",
       "    .dataframe tbody tr th:only-of-type {\n",
       "        vertical-align: middle;\n",
       "    }\n",
       "\n",
       "    .dataframe tbody tr th {\n",
       "        vertical-align: top;\n",
       "    }\n",
       "\n",
       "    .dataframe thead th {\n",
       "        text-align: right;\n",
       "    }\n",
       "</style>\n",
       "<table border=\"1\" class=\"dataframe\">\n",
       "  <thead>\n",
       "    <tr style=\"text-align: right;\">\n",
       "      <th></th>\n",
       "      <th>Order_Demand</th>\n",
       "      <th>% Contribution</th>\n",
       "    </tr>\n",
       "    <tr>\n",
       "      <th>Product_Category</th>\n",
       "      <th></th>\n",
       "      <th></th>\n",
       "    </tr>\n",
       "  </thead>\n",
       "  <tbody>\n",
       "    <tr>\n",
       "      <th>Category_019</th>\n",
       "      <td>4240159257</td>\n",
       "      <td>82.586981</td>\n",
       "    </tr>\n",
       "    <tr>\n",
       "      <th>Category_006</th>\n",
       "      <td>405571330</td>\n",
       "      <td>7.899447</td>\n",
       "    </tr>\n",
       "    <tr>\n",
       "      <th>Category_005</th>\n",
       "      <td>199674520</td>\n",
       "      <td>3.889127</td>\n",
       "    </tr>\n",
       "    <tr>\n",
       "      <th>Category_007</th>\n",
       "      <td>128691531</td>\n",
       "      <td>2.506567</td>\n",
       "    </tr>\n",
       "    <tr>\n",
       "      <th>Category_028</th>\n",
       "      <td>49055354</td>\n",
       "      <td>0.955467</td>\n",
       "    </tr>\n",
       "    <tr>\n",
       "      <th>Category_033</th>\n",
       "      <td>42610000</td>\n",
       "      <td>0.829929</td>\n",
       "    </tr>\n",
       "    <tr>\n",
       "      <th>Category_030</th>\n",
       "      <td>40966555</td>\n",
       "      <td>0.797919</td>\n",
       "    </tr>\n",
       "    <tr>\n",
       "      <th>Category_021</th>\n",
       "      <td>4480570</td>\n",
       "      <td>0.087270</td>\n",
       "    </tr>\n",
       "    <tr>\n",
       "      <th>Category_032</th>\n",
       "      <td>4473048</td>\n",
       "      <td>0.087123</td>\n",
       "    </tr>\n",
       "    <tr>\n",
       "      <th>Category_009</th>\n",
       "      <td>3782141</td>\n",
       "      <td>0.073666</td>\n",
       "    </tr>\n",
       "    <tr>\n",
       "      <th>Category_023</th>\n",
       "      <td>3337724</td>\n",
       "      <td>0.065010</td>\n",
       "    </tr>\n",
       "    <tr>\n",
       "      <th>Category_011</th>\n",
       "      <td>2892842</td>\n",
       "      <td>0.056345</td>\n",
       "    </tr>\n",
       "    <tr>\n",
       "      <th>Category_020</th>\n",
       "      <td>2393813</td>\n",
       "      <td>0.046625</td>\n",
       "    </tr>\n",
       "    <tr>\n",
       "      <th>Category_001</th>\n",
       "      <td>1757473</td>\n",
       "      <td>0.034231</td>\n",
       "    </tr>\n",
       "    <tr>\n",
       "      <th>Category_024</th>\n",
       "      <td>1057317</td>\n",
       "      <td>0.020594</td>\n",
       "    </tr>\n",
       "    <tr>\n",
       "      <th>Category_015</th>\n",
       "      <td>834505</td>\n",
       "      <td>0.016254</td>\n",
       "    </tr>\n",
       "    <tr>\n",
       "      <th>Category_022</th>\n",
       "      <td>606051</td>\n",
       "      <td>0.011804</td>\n",
       "    </tr>\n",
       "    <tr>\n",
       "      <th>Category_025</th>\n",
       "      <td>486000</td>\n",
       "      <td>0.009466</td>\n",
       "    </tr>\n",
       "    <tr>\n",
       "      <th>Category_003</th>\n",
       "      <td>392950</td>\n",
       "      <td>0.007654</td>\n",
       "    </tr>\n",
       "    <tr>\n",
       "      <th>Category_013</th>\n",
       "      <td>309618</td>\n",
       "      <td>0.006031</td>\n",
       "    </tr>\n",
       "    <tr>\n",
       "      <th>Category_026</th>\n",
       "      <td>281996</td>\n",
       "      <td>0.005493</td>\n",
       "    </tr>\n",
       "    <tr>\n",
       "      <th>Category_004</th>\n",
       "      <td>99046</td>\n",
       "      <td>0.001929</td>\n",
       "    </tr>\n",
       "    <tr>\n",
       "      <th>Category_012</th>\n",
       "      <td>70006</td>\n",
       "      <td>0.001364</td>\n",
       "    </tr>\n",
       "    <tr>\n",
       "      <th>Category_017</th>\n",
       "      <td>49457</td>\n",
       "      <td>0.000963</td>\n",
       "    </tr>\n",
       "    <tr>\n",
       "      <th>Category_018</th>\n",
       "      <td>46023</td>\n",
       "      <td>0.000896</td>\n",
       "    </tr>\n",
       "    <tr>\n",
       "      <th>Category_029</th>\n",
       "      <td>23979</td>\n",
       "      <td>0.000467</td>\n",
       "    </tr>\n",
       "    <tr>\n",
       "      <th>Category_010</th>\n",
       "      <td>22554</td>\n",
       "      <td>0.000439</td>\n",
       "    </tr>\n",
       "    <tr>\n",
       "      <th>Category_008</th>\n",
       "      <td>17568</td>\n",
       "      <td>0.000342</td>\n",
       "    </tr>\n",
       "    <tr>\n",
       "      <th>Category_016</th>\n",
       "      <td>16850</td>\n",
       "      <td>0.000328</td>\n",
       "    </tr>\n",
       "    <tr>\n",
       "      <th>Category_031</th>\n",
       "      <td>13022</td>\n",
       "      <td>0.000254</td>\n",
       "    </tr>\n",
       "    <tr>\n",
       "      <th>Category_002</th>\n",
       "      <td>628</td>\n",
       "      <td>0.000012</td>\n",
       "    </tr>\n",
       "    <tr>\n",
       "      <th>Category_027</th>\n",
       "      <td>103</td>\n",
       "      <td>0.000002</td>\n",
       "    </tr>\n",
       "    <tr>\n",
       "      <th>Category_014</th>\n",
       "      <td>100</td>\n",
       "      <td>0.000002</td>\n",
       "    </tr>\n",
       "  </tbody>\n",
       "</table>\n",
       "</div>"
      ],
      "text/plain": [
       "                  Order_Demand  % Contribution\n",
       "Product_Category                              \n",
       "Category_019        4240159257       82.586981\n",
       "Category_006         405571330        7.899447\n",
       "Category_005         199674520        3.889127\n",
       "Category_007         128691531        2.506567\n",
       "Category_028          49055354        0.955467\n",
       "Category_033          42610000        0.829929\n",
       "Category_030          40966555        0.797919\n",
       "Category_021           4480570        0.087270\n",
       "Category_032           4473048        0.087123\n",
       "Category_009           3782141        0.073666\n",
       "Category_023           3337724        0.065010\n",
       "Category_011           2892842        0.056345\n",
       "Category_020           2393813        0.046625\n",
       "Category_001           1757473        0.034231\n",
       "Category_024           1057317        0.020594\n",
       "Category_015            834505        0.016254\n",
       "Category_022            606051        0.011804\n",
       "Category_025            486000        0.009466\n",
       "Category_003            392950        0.007654\n",
       "Category_013            309618        0.006031\n",
       "Category_026            281996        0.005493\n",
       "Category_004             99046        0.001929\n",
       "Category_012             70006        0.001364\n",
       "Category_017             49457        0.000963\n",
       "Category_018             46023        0.000896\n",
       "Category_029             23979        0.000467\n",
       "Category_010             22554        0.000439\n",
       "Category_008             17568        0.000342\n",
       "Category_016             16850        0.000328\n",
       "Category_031             13022        0.000254\n",
       "Category_002               628        0.000012\n",
       "Category_027               103        0.000002\n",
       "Category_014               100        0.000002"
      ]
     },
     "execution_count": 29,
     "metadata": {},
     "output_type": "execute_result"
    }
   ],
   "source": [
    "df1 = pd.DataFrame(df.groupby('Product_Category')['Order_Demand'].sum().sort_values(ascending=False))\n",
    "df1[\"% Contribution\"] = df1['Order_Demand']/df1['Order_Demand'].sum()*100\n",
    "df1\n",
    "# It can be seen starting top 4 products category contribute more than 90% of the demand"
   ]
  },
  {
   "cell_type": "code",
   "execution_count": 30,
   "metadata": {},
   "outputs": [],
   "source": [
    "# df2 = pd.pivot_table(df,index=[\"Date\"],values=[\"Order_Demand\"],columns=[\"Product_Category\"],aggfunc=np.sum)\n",
    "# df2.columns = df2.columns.droplevel(0)\n",
    "# df2[\"Category_019\"].dropna()\n",
    "# Creating Pivot table with date as index, Product category as columns & and values as sum"
   ]
  },
  {
   "cell_type": "code",
   "execution_count": 31,
   "metadata": {},
   "outputs": [],
   "source": [
    "# y = df2.resample('M').sum() # Resampling the data on monthly basis \n",
    "# y.index.freq = \"M\" # Setting datetime frequency to Month\n",
    "# y.head(20)\n",
    "# In Year 2011 so much data is missing, so we will exlude it "
   ]
  },
  {
   "cell_type": "code",
   "execution_count": 32,
   "metadata": {},
   "outputs": [
    {
     "ename": "NameError",
     "evalue": "name 'y' is not defined",
     "output_type": "error",
     "traceback": [
      "\u001b[1;31m---------------------------------------------------------------------------\u001b[0m",
      "\u001b[1;31mNameError\u001b[0m                                 Traceback (most recent call last)",
      "Cell \u001b[1;32mIn[32], line 1\u001b[0m\n\u001b[1;32m----> 1\u001b[0m df_019 \u001b[38;5;241m=\u001b[39m pd\u001b[38;5;241m.\u001b[39mDataFrame(\u001b[43my\u001b[49m[\u001b[38;5;124m\"\u001b[39m\u001b[38;5;124mCategory_019\u001b[39m\u001b[38;5;124m\"\u001b[39m]\u001b[38;5;241m.\u001b[39miloc[\u001b[38;5;241m12\u001b[39m:\u001b[38;5;241m-\u001b[39m\u001b[38;5;241m1\u001b[39m]) \u001b[38;5;66;03m# Including data from 2012 to 2016 end except last value\u001b[39;00m\n\u001b[0;32m      2\u001b[0m df_019\u001b[38;5;241m.\u001b[39mhead()\n",
      "\u001b[1;31mNameError\u001b[0m: name 'y' is not defined"
     ]
    }
   ],
   "source": [
    "df_019 = pd.DataFrame(y[\"Category_019\"].iloc[12:-1]) # Including data from 2012 to 2016 end except last value\n",
    "df_019.head()"
   ]
  },
  {
   "cell_type": "code",
   "execution_count": null,
   "metadata": {},
   "outputs": [],
   "source": [
    "# pip install statsmodels "
   ]
  },
  {
   "cell_type": "code",
   "execution_count": null,
   "metadata": {},
   "outputs": [],
   "source": [
    "from statsmodels.tsa.holtwinters import SimpleExpSmoothing\n",
    "from statsmodels.tsa.holtwinters import ExponentialSmoothing\n",
    "\n",
    "span = 4\n",
    "alpha = 2/(span+1)\n",
    "df_019['EWMA4'] = df_019[\"Category_028\"].ewm(alpha=alpha,adjust=False).mean() # Simple Weighted Moving Average\n",
    "# Simple Exponentional Smoothing\n",
    "# df_019['SES4']=SimpleExpSmoothing(df_019[\"Category_019\"]).fit(smoothing_level=alpha,optimized=False).fittedvalues.shift(-1)\n",
    "\n",
    "#Double Exponentional  Smothening\n",
    "df_019['DESadd4'] = ExponentialSmoothing(df_019[\"Category_028\"], trend='add').fit().fittedvalues.shift(-1)"
   ]
  },
  {
   "cell_type": "code",
   "execution_count": null,
   "metadata": {},
   "outputs": [],
   "source": [
    "df_019[[\"Category_028\",'SES4','DESadd4']].plot(figsize = (20,6)) # Plot for Weighted Moving average & Double Exponentional, \n",
    "#It can be seen data has some seasonailty, therefore will use ARIMA, ARMA"
   ]
  },
  {
   "cell_type": "code",
   "execution_count": null,
   "metadata": {},
   "outputs": [],
   "source": [
    "# Will Ignore harmless warnings\n",
    "import warnings\n",
    "warnings.filterwarnings(\"ignore\")\n",
    "\n",
    "# ! pip install pmdarima \n",
    "from statsmodels.tsa.arima_model import ARMA,ARMAResults,ARIMA,ARIMAResults\n",
    "from statsmodels.graphics.tsaplots import plot_acf,plot_pacf # for determining (p,q) orders\n",
    "from pmdarima import auto_arima # for determining ARIMA orders\n",
    "from statsmodels.tsa.statespace.sarimax import SARIMAX\n",
    "from statsmodels.tsa.seasonal import seasonal_decompose      # for ETS Plots"
   ]
  },
  {
   "cell_type": "code",
   "execution_count": null,
   "metadata": {},
   "outputs": [],
   "source": [
    "# to Check series is stationary or not\n",
    "from statsmodels.tsa.stattools import adfuller\n",
    "\n",
    "def adf_test(series,title=''):\n",
    "    \"\"\"\n",
    "    Pass in a time series and an optional title, returns an ADF report\n",
    "    \"\"\"\n",
    "    print(f'Augmented Dickey-Fuller Test: {title}')\n",
    "    result = adfuller(series.dropna(),autolag='AIC') # .dropna() handles differenced data\n",
    "    \n",
    "    labels = ['ADF test statistic','p-value','# lags used','# observations']\n",
    "    out = pd.Series(result[0:4],index=labels)\n",
    "\n",
    "    for key,val in result[4].items():\n",
    "        out[f'critical value ({key})']=val\n",
    "        \n",
    "    print(out.to_string())          # .to_string() removes the line \"dtype: float64\"\n",
    "    \n",
    "    if result[1] <= 0.05:\n",
    "        print(\"Strong evidence against the null hypothesis\")\n",
    "        print(\"Reject the null hypothesis\")\n",
    "        print(\"Data has no unit root and is stationary\")\n",
    "    else:\n",
    "        print(\"Weak evidence against the null hypothesis\")\n",
    "        print(\"Fail to reject the null hypothesis\")\n",
    "        print(\"Data has a unit root and is non-stationary\")"
   ]
  },
  {
   "cell_type": "code",
   "execution_count": null,
   "metadata": {},
   "outputs": [],
   "source": [
    "adf_test(df_019[\"Category_019\"])\n",
    "# Series is non stationary"
   ]
  },
  {
   "cell_type": "code",
   "execution_count": null,
   "metadata": {},
   "outputs": [],
   "source": [
    "fit = auto_arima(df_019[\"Category_019\"], start_p=1, start_q=1,\n",
    "                          max_p=5, max_q=5, m=12,\n",
    "                          start_P=0, seasonal=True,\n",
    "                          d=None, D=1, trace=True,\n",
    "                          error_action='ignore',   # we don't want to know if an order does not work\n",
    "                          suppress_warnings=True,  # we don't want convergence warnings\n",
    "                          stepwise=True)           # set to stepwise\n",
    "\n",
    "fit.summary()\n",
    "# After running Auto Arima, Best order is SARIMAX(3, 1, 3)x(0, 1, [1, 2], 12) for which AIC is minimum"
   ]
  },
  {
   "cell_type": "code",
   "execution_count": null,
   "metadata": {},
   "outputs": [],
   "source": [
    "len(df_019[\"Category_019\"])\n",
    "# Train & Test Data\n",
    "train = df_019[\"Category_019\"].iloc[:48]\n",
    "test = df_019[\"Category_019\"].iloc[48:]"
   ]
  },
  {
   "cell_type": "code",
   "execution_count": null,
   "metadata": {},
   "outputs": [],
   "source": [
    "model = SARIMAX(train,order=(3,1,3),seasonal_order=(0,1,1,12))\n",
    "results = model.fit()\n",
    "results.summary()"
   ]
  },
  {
   "cell_type": "code",
   "execution_count": null,
   "metadata": {},
   "outputs": [],
   "source": [
    "# Obtain predicted values\n",
    "start=len(train)\n",
    "end=len(train)+len(test)-1\n",
    "predictions = results.predict(start=start, end=end, dynamic=False, typ='levels').rename('SARIMA (3,1,3),(0,1,1,12) Predictions')"
   ]
  },
  {
   "cell_type": "code",
   "execution_count": null,
   "metadata": {},
   "outputs": [],
   "source": [
    "ax = test.plot(legend=True,figsize=(12,6))\n",
    "predictions.plot(legend=True)\n",
    "ax.autoscale(axis='x',tight=True)\n",
    "#plotting Test data & predicted demand"
   ]
  },
  {
   "cell_type": "code",
   "execution_count": null,
   "metadata": {},
   "outputs": [],
   "source": [
    "from sklearn.metrics import mean_squared_error\n",
    "\n",
    "error = np.sqrt(mean_squared_error(test, predictions))\n",
    "print(f'SARIMA(0,1,3)(1,0,1,12) RMSE Error: {error:11.10}')\n",
    "print('Std of Test data:                  ', df_019[\"Category_019\"].std())\n",
    "# Comparison of RMSE & Std of data, as Std if very high compared to RMSE"
   ]
  },
  {
   "cell_type": "code",
   "execution_count": null,
   "metadata": {},
   "outputs": [],
   "source": [
    "# Retrain the model on the full data, and forecasting for next 4 months\n",
    "model = SARIMAX(df_019[\"Category_019\"],order=(3,1,3),seasonal_order=(0,1,1,12))\n",
    "results = model.fit()\n",
    "fcast = results.predict(len(df_019[\"Category_019\"]),len(df_019[\"Category_028\"])+4,typ='levels').rename('SARIMA(3,1,3)(0,1,1,12) Forecast')"
   ]
  },
  {
   "cell_type": "code",
   "execution_count": null,
   "metadata": {},
   "outputs": [],
   "source": [
    "ax = df_019[\"Category_028\"].plot(legend=True,figsize=(12,6))\n",
    "fcast.plot(legend=True)\n",
    "ax.autoscale(axis='x',tight=True)\n",
    "#plotting actual data & 4 month forecasted demand"
   ]
  },
  {
   "cell_type": "code",
   "execution_count": null,
   "metadata": {},
   "outputs": [],
   "source": [
    "# Same steps need to be done for each category, considering the missing data, stationarity. Finding the best order to be fit into the model and using the train test split to validate the model, Finally forecasting for the required Months."
   ]
  }
 ],
 "metadata": {
  "kernelspec": {
   "display_name": "Python 3 (ipykernel)",
   "language": "python",
   "name": "python3"
  },
  "language_info": {
   "codemirror_mode": {
    "name": "ipython",
    "version": 3
   },
   "file_extension": ".py",
   "mimetype": "text/x-python",
   "name": "python",
   "nbconvert_exporter": "python",
   "pygments_lexer": "ipython3",
   "version": "3.9.0"
  }
 },
 "nbformat": 4,
 "nbformat_minor": 4
}
